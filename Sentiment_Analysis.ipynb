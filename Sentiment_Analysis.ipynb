{
  "nbformat": 4,
  "nbformat_minor": 0,
  "metadata": {
    "colab": {
      "provenance": [],
      "authorship_tag": "ABX9TyOWr9IKNVxkKVLtAfoPh8vc",
      "include_colab_link": true
    },
    "kernelspec": {
      "name": "python3",
      "display_name": "Python 3"
    },
    "language_info": {
      "name": "python"
    }
  },
  "cells": [
    {
      "cell_type": "markdown",
      "metadata": {
        "id": "view-in-github",
        "colab_type": "text"
      },
      "source": [
        "<a href=\"https://colab.research.google.com/github/RamyaKGokul/Python-DL-Projects/blob/main/Sentiment_Analysis.ipynb\" target=\"_parent\"><img src=\"https://colab.research.google.com/assets/colab-badge.svg\" alt=\"Open In Colab\"/></a>"
      ]
    },
    {
      "cell_type": "code",
      "execution_count": null,
      "metadata": {
        "id": "Upf8Twuwyowg"
      },
      "outputs": [],
      "source": [
        "# Importing tensorflow and matplotlib\n",
        "import numpy as np\n",
        "import tensorflow_datasets as tfds\n",
        "import tensorflow as tf\n",
        "import matplotlib.pyplot as plt\n",
        "\n",
        "tfds.disable_progress_bar()\n",
        "\n",
        "#Defining plot function\n",
        "def plot_graphs(history, metric):\n",
        "  plt.plot(history.history[metric])\n",
        "  plt.plot(history.history['val_'+metric], '')\n",
        "  plt.xlabel(\"Epochs\")\n",
        "  plt.ylabel(metric)\n",
        "  plt.legend([metric, 'val_'+metric])\n",
        "\n",
        "#Loading imdb_reviews dataset with info and actual label\n",
        "dataset, info = tfds.load('imdb_reviews', with_info=True,as_supervised=True)\n",
        "train_dataset, test_dataset = dataset['train'], dataset['test']\n",
        "print(train_dataset.element_spec)\n",
        "\n",
        "print('Positive sentiment:1\\nNegative sentiment:0\\n')\n",
        "\n",
        "#Printing a sample movie review and its actual label\n",
        "for example, label in train_dataset.take(1):\n",
        "    print('Sample text:\\n', example.numpy())\n",
        "    print('label:', label.numpy())\n",
        "\n",
        "#Fixing the buffer and batch size for training and testing\n",
        "BUFFER_SIZE = 10000\n",
        "BATCH_SIZE = 64\n",
        "\n",
        "train_dataset = train_dataset.shuffle(BUFFER_SIZE).batch(BATCH_SIZE).prefetch(tf.data.AUTOTUNE)\n",
        "test_dataset = test_dataset.shuffle(BUFFER_SIZE).batch(BATCH_SIZE).prefetch(tf.data.AUTOTUNE)\n",
        "\n",
        "#Printing the sample text and its actual label\n",
        "for example, label in train_dataset.take(2):\n",
        "    print('Sample text: ', example.numpy()[:3])\n",
        "    print('Actual label:',label.numpy()[:3])\n",
        "\n",
        "#Vectorization of the text to a Vocabulary size of 1000 words\n",
        "VOCAB_SIZE = 1000\n",
        "encoder = tf.keras.layers.TextVectorization(max_tokens=VOCAB_SIZE)\n",
        "encoder.adapt(train_dataset.map(lambda text, label: text))\n",
        "vocab = np.array(encoder.get_vocabulary())\n",
        "print(vocab[:50],\"\\n\")\n",
        "encoded_example = encoder(example)[:3].numpy()\n",
        "encoded_example\n",
        "\n",
        "#Building the LSTM model\n",
        "model = tf.keras.Sequential([\n",
        "    encoder,\n",
        "    tf.keras.layers.Embedding(len(encoder.get_vocabulary()), 32, mask_zero=True),\n",
        "    tf.keras.layers.Bidirectional(tf.keras.layers.LSTM(32,  return_sequences=True)),\n",
        "    tf.keras.layers.Bidirectional(tf.keras.layers.LSTM(32)),\n",
        "    tf.keras.layers.Dense(32, activation='relu'),\n",
        "    tf.keras.layers.Dense(1)\n",
        "])\n",
        "\n",
        "#Compiling the model\n",
        "model.compile(loss=tf.keras.losses.BinaryCrossentropy(from_logits=True),\n",
        "              optimizer=tf.keras.optimizers.Adam(3e-4),\n",
        "              metrics=['accuracy'])\n",
        "\n",
        "#Fitting the model\n",
        "history = model.fit(train_dataset, epochs=20,\n",
        "                    validation_data=test_dataset,\n",
        "                    validation_steps=30)\n",
        "\n",
        "#Evaluating on the test data\n",
        "test_loss, test_acc = model.evaluate(test_dataset)\n",
        "print('Test Loss:', test_loss)\n",
        "print('Test Accuracy:', test_acc)\n",
        "\n",
        "#Prediction on a sample text\n",
        "sample_text = ('The movie was not good. The animation and the graphics '\n",
        "               'were terrible. I would not recommend this movie.')\n",
        "\n",
        "#Plotting the Accuracy and loss of the sentiment analyzer\n",
        "predictions = model.predict(np.array([sample_text]))\n",
        "print(\"Predicted Label:\",predictions)\n",
        "plt.figure(figsize=(16, 6))\n",
        "plt.subplot(1, 2, 1)\n",
        "plot_graphs(history, 'accuracy')\n",
        "plt.subplot(1, 2, 2)\n",
        "plot_graphs(history, 'loss')"
      ]
    }
  ]
}